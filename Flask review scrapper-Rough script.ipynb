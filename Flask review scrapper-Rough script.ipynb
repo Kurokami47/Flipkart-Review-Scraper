{
 "cells": [
  {
   "cell_type": "code",
   "execution_count": 1,
   "id": "3df14681",
   "metadata": {},
   "outputs": [],
   "source": [
    "from flask import Flask, request,jsonify\n",
    "from flask_cors import CORS,cross_origin\n",
    "import requests\n",
    "from bs4 import BeautifulSoup as bs\n",
    "from urllib.request import urlopen as uReq"
   ]
  },
  {
   "cell_type": "code",
   "execution_count": 2,
   "id": "4585194f",
   "metadata": {},
   "outputs": [],
   "source": [
    "searchString='oppo'"
   ]
  },
  {
   "cell_type": "code",
   "execution_count": 3,
   "id": "1442fa23",
   "metadata": {},
   "outputs": [],
   "source": [
    "flipkart_url = \"https://www.flipkart.com/search?q=\" + (f'{searchString}')"
   ]
  },
  {
   "cell_type": "code",
   "execution_count": 4,
   "id": "64f5fb8a",
   "metadata": {},
   "outputs": [],
   "source": [
    "uclient=uReq(flipkart_url)"
   ]
  },
  {
   "cell_type": "code",
   "execution_count": 5,
   "id": "8903bd69",
   "metadata": {},
   "outputs": [],
   "source": [
    "flipkartpage=uclient.read()"
   ]
  },
  {
   "cell_type": "code",
   "execution_count": 7,
   "id": "10f47f0d",
   "metadata": {},
   "outputs": [],
   "source": [
    "flipkart_html=bs(flipkartpage,('html.parser'))"
   ]
  },
  {
   "cell_type": "code",
   "execution_count": 9,
   "id": "8830076d",
   "metadata": {},
   "outputs": [],
   "source": [
    "bigboxes=flipkart_html.findAll('a', {'class':'_1fQZEK'})"
   ]
  },
  {
   "cell_type": "code",
   "execution_count": 11,
   "id": "8ef8d22e",
   "metadata": {},
   "outputs": [],
   "source": [
    "l=[]\n",
    "for box in bigboxes:\n",
    "     l.append(box['href'])"
   ]
  },
  {
   "cell_type": "code",
   "execution_count": 12,
   "id": "259cf0e7",
   "metadata": {},
   "outputs": [
    {
     "data": {
      "text/plain": [
       "24"
      ]
     },
     "execution_count": 12,
     "metadata": {},
     "output_type": "execute_result"
    }
   ],
   "source": [
    "len(bigboxes)"
   ]
  },
  {
   "cell_type": "code",
   "execution_count": 13,
   "id": "145e55c4",
   "metadata": {},
   "outputs": [
    {
     "data": {
      "text/plain": [
       "['/oppo-k10-blue-flame-128-gb/p/itm6205e7e72fe0c?pid=MOBGCFUHQAG5GDQS&lid=LSTMOBGCFUHQAG5GDQSSCVTKH&marketplace=FLIPKART&q=oppo&store=tyy%2F4io&srno=s_1_1&otracker=search&fm=organic&iid=97d22e5e-996b-4426-a328-fb8231276d7a.MOBGCFUHQAG5GDQS.SEARCH&ppt=None&ppn=None&ssid=rgtsv4p9uo0000001667613515407&qH=c892ba238c98835d',\n",
       " '/oppo-k10-black-carbon-128-gb/p/itm6205e7e72fe0c?pid=MOBGCFUHMDFSCM9W&lid=LSTMOBGCFUHMDFSCM9WSL0U8O&marketplace=FLIPKART&q=oppo&store=tyy%2F4io&srno=s_1_2&otracker=search&fm=organic&iid=97d22e5e-996b-4426-a328-fb8231276d7a.MOBGCFUHMDFSCM9W.SEARCH&ppt=None&ppn=None&ssid=rgtsv4p9uo0000001667613515407&qH=c892ba238c98835d',\n",
       " '/oppo-k10-black-carbon-128-gb/p/itm6205e7e72fe0c?pid=MOBGCFUHRXHPKEFH&lid=LSTMOBGCFUHRXHPKEFHTTMTG5&marketplace=FLIPKART&q=oppo&store=tyy%2F4io&srno=s_1_3&otracker=search&fm=organic&iid=97d22e5e-996b-4426-a328-fb8231276d7a.MOBGCFUHRXHPKEFH.SEARCH&ppt=None&ppn=None&ssid=rgtsv4p9uo0000001667613515407&qH=c892ba238c98835d',\n",
       " '/oppo-f19-midnight-blue-128-gb/p/itm82f60569dc6db?pid=MOBGFGWNEYV3NZBV&lid=LSTMOBGFGWNEYV3NZBVFZZVNZ&marketplace=FLIPKART&q=oppo&store=tyy%2F4io&srno=s_1_4&otracker=search&fm=organic&iid=97d22e5e-996b-4426-a328-fb8231276d7a.MOBGFGWNEYV3NZBV.SEARCH&ppt=None&ppn=None&ssid=rgtsv4p9uo0000001667613515407&qH=c892ba238c98835d',\n",
       " '/oppo-f19-prism-black-128-gb/p/itm82f60569dc6db?pid=MOBGFGWNUZXAM7QY&lid=LSTMOBGFGWNUZXAM7QYB6Z1TY&marketplace=FLIPKART&q=oppo&store=tyy%2F4io&srno=s_1_5&otracker=search&fm=organic&iid=97d22e5e-996b-4426-a328-fb8231276d7a.MOBGFGWNUZXAM7QY.SEARCH&ppt=None&ppn=None&ssid=rgtsv4p9uo0000001667613515407&qH=c892ba238c98835d',\n",
       " '/oppo-f19-pro-5g-fluid-black-128-gb/p/itmd90acf0f30ad6?pid=MOBGFUZ4XC4VCJAY&lid=LSTMOBGFUZ4XC4VCJAYUVMETX&marketplace=FLIPKART&q=oppo&store=tyy%2F4io&srno=s_1_6&otracker=search&fm=organic&iid=97d22e5e-996b-4426-a328-fb8231276d7a.MOBGFUZ4XC4VCJAY.SEARCH&ppt=None&ppn=None&ssid=rgtsv4p9uo0000001667613515407&qH=c892ba238c98835d',\n",
       " '/oppo-k10-5g-midnight-black-128-gb/p/itm28cf887931942?pid=MOBGETEKHMT7HMR7&lid=LSTMOBGETEKHMT7HMR7WHUWBT&marketplace=FLIPKART&q=oppo&store=tyy%2F4io&srno=s_1_7&otracker=search&fm=organic&iid=97d22e5e-996b-4426-a328-fb8231276d7a.MOBGETEKHMT7HMR7.SEARCH&ppt=None&ppn=None&ssid=rgtsv4p9uo0000001667613515407&qH=c892ba238c98835d',\n",
       " '/oppo-k10-5g-ocean-blue-128-gb/p/itm28cf887931942?pid=MOBGEWUYZ2Z9FSQG&lid=LSTMOBGEWUYZ2Z9FSQGC2YHFU&marketplace=FLIPKART&q=oppo&store=tyy%2F4io&srno=s_1_8&otracker=search&fm=organic&iid=97d22e5e-996b-4426-a328-fb8231276d7a.MOBGEWUYZ2Z9FSQG.SEARCH&ppt=None&ppn=None&ssid=rgtsv4p9uo0000001667613515407&qH=c892ba238c98835d',\n",
       " '/oppo-a16e-blue-32-gb/p/itm85a06b75b1e08?pid=MOBGCNHPNPBEFUZD&lid=LSTMOBGCNHPNPBEFUZDYLEPNU&marketplace=FLIPKART&q=oppo&store=tyy%2F4io&srno=s_1_9&otracker=search&fm=organic&iid=97d22e5e-996b-4426-a328-fb8231276d7a.MOBGCNHPNPBEFUZD.SEARCH&ppt=None&ppn=None&ssid=rgtsv4p9uo0000001667613515407&qH=c892ba238c98835d',\n",
       " '/oppo-a16e-midnight-black-32-gb/p/itm85a06b75b1e08?pid=MOBGCNHPSJHEJQZZ&lid=LSTMOBGCNHPSJHEJQZZ1WLTMN&marketplace=FLIPKART&q=oppo&store=tyy%2F4io&srno=s_1_10&otracker=search&fm=organic&iid=97d22e5e-996b-4426-a328-fb8231276d7a.MOBGCNHPSJHEJQZZ.SEARCH&ppt=None&ppn=None&ssid=rgtsv4p9uo0000001667613515407&qH=c892ba238c98835d',\n",
       " '/oppo-f19-pro-5g-space-silver-128-gb/p/itmd90acf0f30ad6?pid=MOBGFUZ4ARZ5SPGT&lid=LSTMOBGFUZ4ARZ5SPGT9BXTWL&marketplace=FLIPKART&q=oppo&store=tyy%2F4io&srno=s_1_11&otracker=search&fm=organic&iid=97d22e5e-996b-4426-a328-fb8231276d7a.MOBGFUZ4ARZ5SPGT.SEARCH&ppt=None&ppn=None&ssid=rgtsv4p9uo0000001667613515407&qH=c892ba238c98835d',\n",
       " '/oppo-a17-sunlight-orange-64-gb/p/itm972be448027ca?pid=MOBGGFG3DJBQJH5A&lid=LSTMOBGGFG3DJBQJH5A390VVG&marketplace=FLIPKART&q=oppo&store=tyy%2F4io&srno=s_1_12&otracker=search&fm=organic&iid=97d22e5e-996b-4426-a328-fb8231276d7a.MOBGGFG3DJBQJH5A.SEARCH&ppt=None&ppn=None&ssid=rgtsv4p9uo0000001667613515407&qH=c892ba238c98835d',\n",
       " '/oppo-a17-midnight-black-64-gb/p/itm972be448027ca?pid=MOBGGFG3KEZHSGZA&lid=LSTMOBGGFG3KEZHSGZAID0ABM&marketplace=FLIPKART&q=oppo&store=tyy%2F4io&srno=s_1_13&otracker=search&fm=organic&iid=97d22e5e-996b-4426-a328-fb8231276d7a.MOBGGFG3KEZHSGZA.SEARCH&ppt=None&ppn=None&ssid=rgtsv4p9uo0000001667613515407&qH=c892ba238c98835d',\n",
       " '/oppo-a15s-dynamic-black-64-gb/p/itm8a26d15bdd39c?pid=MOBFZAQ476CBJPZP&lid=LSTMOBFZAQ476CBJPZP9YBCKK&marketplace=FLIPKART&q=oppo&store=tyy%2F4io&srno=s_1_14&otracker=search&fm=organic&iid=97d22e5e-996b-4426-a328-fb8231276d7a.MOBFZAQ476CBJPZP.SEARCH&ppt=None&ppn=None&ssid=rgtsv4p9uo0000001667613515407&qH=c892ba238c98835d',\n",
       " '/oppo-a15s-fancy-white-128-gb/p/itm8a26d15bdd39c?pid=MOBG22NMSYBGYYUG&lid=LSTMOBG22NMSYBGYYUGU7J2GQ&marketplace=FLIPKART&q=oppo&store=tyy%2F4io&srno=s_1_15&otracker=search&fm=organic&iid=97d22e5e-996b-4426-a328-fb8231276d7a.MOBG22NMSYBGYYUG.SEARCH&ppt=None&ppn=None&ssid=rgtsv4p9uo0000001667613515407&qH=c892ba238c98835d',\n",
       " '/oppo-a16e-white-32-gb/p/itm85a06b75b1e08?pid=MOBGCNHPFUD7NYRZ&lid=LSTMOBGCNHPFUD7NYRZLXAVI5&marketplace=FLIPKART&q=oppo&store=tyy%2F4io&srno=s_1_16&otracker=search&fm=organic&iid=97d22e5e-996b-4426-a328-fb8231276d7a.MOBGCNHPFUD7NYRZ.SEARCH&ppt=None&ppn=None&ssid=rgtsv4p9uo0000001667613515407&qH=c892ba238c98835d',\n",
       " '/oppo-a16e-white-64-gb/p/itm85a06b75b1e08?pid=MOBGCNHPZCJMEHBH&lid=LSTMOBGCNHPZCJMEHBHJK77SY&marketplace=FLIPKART&q=oppo&store=tyy%2F4io&srno=s_1_17&otracker=search&fm=organic&iid=97d22e5e-996b-4426-a328-fb8231276d7a.MOBGCNHPZCJMEHBH.SEARCH&ppt=None&ppn=None&ssid=rgtsv4p9uo0000001667613515407&qH=c892ba238c98835d',\n",
       " '/oppo-a54-starry-blue-128-gb/p/itm2c71eaacf710e?pid=MOBG23KTFRHZ4PEP&lid=LSTMOBG23KTFRHZ4PEPBSFTKR&marketplace=FLIPKART&q=oppo&store=tyy%2F4io&srno=s_1_18&otracker=search&fm=organic&iid=97d22e5e-996b-4426-a328-fb8231276d7a.MOBG23KTFRHZ4PEP.SEARCH&ppt=None&ppn=None&ssid=rgtsv4p9uo0000001667613515407&qH=c892ba238c98835d',\n",
       " '/oppo-a57-glowing-gold-64-gb/p/itma242c097cc9a1?pid=MOBGGZD3WHX3NZRR&lid=LSTMOBGGZD3WHX3NZRRPFPXM0&marketplace=FLIPKART&q=oppo&store=tyy%2F4io&srno=s_1_19&otracker=search&fm=organic&iid=97d22e5e-996b-4426-a328-fb8231276d7a.MOBGGZD3WHX3NZRR.SEARCH&ppt=None&ppn=None&ssid=rgtsv4p9uo0000001667613515407&qH=c892ba238c98835d',\n",
       " '/oppo-a57-green-64-gb/p/itma242c097cc9a1?pid=MOBGHQY3ZQHHHYTV&lid=LSTMOBGHQY3ZQHHHYTV200NMY&marketplace=FLIPKART&q=oppo&store=tyy%2F4io&srno=s_1_20&otracker=search&fm=organic&iid=97d22e5e-996b-4426-a328-fb8231276d7a.MOBGHQY3ZQHHHYTV.SEARCH&ppt=None&ppn=None&ssid=rgtsv4p9uo0000001667613515407&qH=c892ba238c98835d',\n",
       " '/oppo-f21spro-orange-128-gb/p/itm8307821173fa9?pid=MOBGG43FGSZYCYB9&lid=LSTMOBGG43FGSZYCYB9YRJY9S&marketplace=FLIPKART&q=oppo&store=tyy%2F4io&srno=s_1_21&otracker=search&fm=organic&iid=97d22e5e-996b-4426-a328-fb8231276d7a.MOBGG43FGSZYCYB9.SEARCH&ppt=None&ppn=None&ssid=rgtsv4p9uo0000001667613515407&qH=c892ba238c98835d',\n",
       " '/oppo-a57-glowing-green-64-gb/p/itma242c097cc9a1?pid=MOBGFBTZZYMMXHEN&lid=LSTMOBGFBTZZYMMXHENWJ4WAZ&marketplace=FLIPKART&q=oppo&store=tyy%2F4io&srno=s_1_22&otracker=search&fm=organic&iid=97d22e5e-996b-4426-a328-fb8231276d7a.MOBGFBTZZYMMXHEN.SEARCH&ppt=None&ppn=None&ssid=rgtsv4p9uo0000001667613515407&qH=c892ba238c98835d',\n",
       " '/oppo-reno8-5g-shimmer-black-128-gb/p/itmba1bc0bf67ccc?pid=MOBGFPE5BHY8QGEH&lid=LSTMOBGFPE5BHY8QGEHQDYOMR&marketplace=FLIPKART&q=oppo&store=tyy%2F4io&srno=s_1_23&otracker=search&fm=organic&iid=97d22e5e-996b-4426-a328-fb8231276d7a.MOBGFPE5BHY8QGEH.SEARCH&ppt=None&ppn=None&ssid=rgtsv4p9uo0000001667613515407&qH=c892ba238c98835d',\n",
       " '/oppo-reno8-5g-shimmer-gold-128-gb/p/itmba1bc0bf67ccc?pid=MOBGFPE5ZNPQQWXV&lid=LSTMOBGFPE5ZNPQQWXVA0ROSN&marketplace=FLIPKART&q=oppo&store=tyy%2F4io&srno=s_1_24&otracker=search&fm=organic&iid=97d22e5e-996b-4426-a328-fb8231276d7a.MOBGFPE5ZNPQQWXV.SEARCH&ppt=None&ppn=None&ssid=rgtsv4p9uo0000001667613515407&qH=c892ba238c98835d']"
      ]
     },
     "execution_count": 13,
     "metadata": {},
     "output_type": "execute_result"
    }
   ],
   "source": [
    "l"
   ]
  },
  {
   "cell_type": "code",
   "execution_count": 14,
   "id": "57110906",
   "metadata": {
    "scrolled": true
   },
   "outputs": [],
   "source": [
    "productlinks=[]\n",
    "for i in range(len(l)):\n",
    "    productlinks.append(\"https://www.flipkart.com\"+l[i])"
   ]
  },
  {
   "cell_type": "code",
   "execution_count": 15,
   "id": "413b8074",
   "metadata": {
    "scrolled": true
   },
   "outputs": [
    {
     "data": {
      "text/plain": [
       "['https://www.flipkart.com/oppo-k10-blue-flame-128-gb/p/itm6205e7e72fe0c?pid=MOBGCFUHQAG5GDQS&lid=LSTMOBGCFUHQAG5GDQSSCVTKH&marketplace=FLIPKART&q=oppo&store=tyy%2F4io&srno=s_1_1&otracker=search&fm=organic&iid=97d22e5e-996b-4426-a328-fb8231276d7a.MOBGCFUHQAG5GDQS.SEARCH&ppt=None&ppn=None&ssid=rgtsv4p9uo0000001667613515407&qH=c892ba238c98835d',\n",
       " 'https://www.flipkart.com/oppo-k10-black-carbon-128-gb/p/itm6205e7e72fe0c?pid=MOBGCFUHMDFSCM9W&lid=LSTMOBGCFUHMDFSCM9WSL0U8O&marketplace=FLIPKART&q=oppo&store=tyy%2F4io&srno=s_1_2&otracker=search&fm=organic&iid=97d22e5e-996b-4426-a328-fb8231276d7a.MOBGCFUHMDFSCM9W.SEARCH&ppt=None&ppn=None&ssid=rgtsv4p9uo0000001667613515407&qH=c892ba238c98835d',\n",
       " 'https://www.flipkart.com/oppo-k10-black-carbon-128-gb/p/itm6205e7e72fe0c?pid=MOBGCFUHRXHPKEFH&lid=LSTMOBGCFUHRXHPKEFHTTMTG5&marketplace=FLIPKART&q=oppo&store=tyy%2F4io&srno=s_1_3&otracker=search&fm=organic&iid=97d22e5e-996b-4426-a328-fb8231276d7a.MOBGCFUHRXHPKEFH.SEARCH&ppt=None&ppn=None&ssid=rgtsv4p9uo0000001667613515407&qH=c892ba238c98835d',\n",
       " 'https://www.flipkart.com/oppo-f19-midnight-blue-128-gb/p/itm82f60569dc6db?pid=MOBGFGWNEYV3NZBV&lid=LSTMOBGFGWNEYV3NZBVFZZVNZ&marketplace=FLIPKART&q=oppo&store=tyy%2F4io&srno=s_1_4&otracker=search&fm=organic&iid=97d22e5e-996b-4426-a328-fb8231276d7a.MOBGFGWNEYV3NZBV.SEARCH&ppt=None&ppn=None&ssid=rgtsv4p9uo0000001667613515407&qH=c892ba238c98835d',\n",
       " 'https://www.flipkart.com/oppo-f19-prism-black-128-gb/p/itm82f60569dc6db?pid=MOBGFGWNUZXAM7QY&lid=LSTMOBGFGWNUZXAM7QYB6Z1TY&marketplace=FLIPKART&q=oppo&store=tyy%2F4io&srno=s_1_5&otracker=search&fm=organic&iid=97d22e5e-996b-4426-a328-fb8231276d7a.MOBGFGWNUZXAM7QY.SEARCH&ppt=None&ppn=None&ssid=rgtsv4p9uo0000001667613515407&qH=c892ba238c98835d',\n",
       " 'https://www.flipkart.com/oppo-f19-pro-5g-fluid-black-128-gb/p/itmd90acf0f30ad6?pid=MOBGFUZ4XC4VCJAY&lid=LSTMOBGFUZ4XC4VCJAYUVMETX&marketplace=FLIPKART&q=oppo&store=tyy%2F4io&srno=s_1_6&otracker=search&fm=organic&iid=97d22e5e-996b-4426-a328-fb8231276d7a.MOBGFUZ4XC4VCJAY.SEARCH&ppt=None&ppn=None&ssid=rgtsv4p9uo0000001667613515407&qH=c892ba238c98835d',\n",
       " 'https://www.flipkart.com/oppo-k10-5g-midnight-black-128-gb/p/itm28cf887931942?pid=MOBGETEKHMT7HMR7&lid=LSTMOBGETEKHMT7HMR7WHUWBT&marketplace=FLIPKART&q=oppo&store=tyy%2F4io&srno=s_1_7&otracker=search&fm=organic&iid=97d22e5e-996b-4426-a328-fb8231276d7a.MOBGETEKHMT7HMR7.SEARCH&ppt=None&ppn=None&ssid=rgtsv4p9uo0000001667613515407&qH=c892ba238c98835d',\n",
       " 'https://www.flipkart.com/oppo-k10-5g-ocean-blue-128-gb/p/itm28cf887931942?pid=MOBGEWUYZ2Z9FSQG&lid=LSTMOBGEWUYZ2Z9FSQGC2YHFU&marketplace=FLIPKART&q=oppo&store=tyy%2F4io&srno=s_1_8&otracker=search&fm=organic&iid=97d22e5e-996b-4426-a328-fb8231276d7a.MOBGEWUYZ2Z9FSQG.SEARCH&ppt=None&ppn=None&ssid=rgtsv4p9uo0000001667613515407&qH=c892ba238c98835d',\n",
       " 'https://www.flipkart.com/oppo-a16e-blue-32-gb/p/itm85a06b75b1e08?pid=MOBGCNHPNPBEFUZD&lid=LSTMOBGCNHPNPBEFUZDYLEPNU&marketplace=FLIPKART&q=oppo&store=tyy%2F4io&srno=s_1_9&otracker=search&fm=organic&iid=97d22e5e-996b-4426-a328-fb8231276d7a.MOBGCNHPNPBEFUZD.SEARCH&ppt=None&ppn=None&ssid=rgtsv4p9uo0000001667613515407&qH=c892ba238c98835d',\n",
       " 'https://www.flipkart.com/oppo-a16e-midnight-black-32-gb/p/itm85a06b75b1e08?pid=MOBGCNHPSJHEJQZZ&lid=LSTMOBGCNHPSJHEJQZZ1WLTMN&marketplace=FLIPKART&q=oppo&store=tyy%2F4io&srno=s_1_10&otracker=search&fm=organic&iid=97d22e5e-996b-4426-a328-fb8231276d7a.MOBGCNHPSJHEJQZZ.SEARCH&ppt=None&ppn=None&ssid=rgtsv4p9uo0000001667613515407&qH=c892ba238c98835d',\n",
       " 'https://www.flipkart.com/oppo-f19-pro-5g-space-silver-128-gb/p/itmd90acf0f30ad6?pid=MOBGFUZ4ARZ5SPGT&lid=LSTMOBGFUZ4ARZ5SPGT9BXTWL&marketplace=FLIPKART&q=oppo&store=tyy%2F4io&srno=s_1_11&otracker=search&fm=organic&iid=97d22e5e-996b-4426-a328-fb8231276d7a.MOBGFUZ4ARZ5SPGT.SEARCH&ppt=None&ppn=None&ssid=rgtsv4p9uo0000001667613515407&qH=c892ba238c98835d',\n",
       " 'https://www.flipkart.com/oppo-a17-sunlight-orange-64-gb/p/itm972be448027ca?pid=MOBGGFG3DJBQJH5A&lid=LSTMOBGGFG3DJBQJH5A390VVG&marketplace=FLIPKART&q=oppo&store=tyy%2F4io&srno=s_1_12&otracker=search&fm=organic&iid=97d22e5e-996b-4426-a328-fb8231276d7a.MOBGGFG3DJBQJH5A.SEARCH&ppt=None&ppn=None&ssid=rgtsv4p9uo0000001667613515407&qH=c892ba238c98835d',\n",
       " 'https://www.flipkart.com/oppo-a17-midnight-black-64-gb/p/itm972be448027ca?pid=MOBGGFG3KEZHSGZA&lid=LSTMOBGGFG3KEZHSGZAID0ABM&marketplace=FLIPKART&q=oppo&store=tyy%2F4io&srno=s_1_13&otracker=search&fm=organic&iid=97d22e5e-996b-4426-a328-fb8231276d7a.MOBGGFG3KEZHSGZA.SEARCH&ppt=None&ppn=None&ssid=rgtsv4p9uo0000001667613515407&qH=c892ba238c98835d',\n",
       " 'https://www.flipkart.com/oppo-a15s-dynamic-black-64-gb/p/itm8a26d15bdd39c?pid=MOBFZAQ476CBJPZP&lid=LSTMOBFZAQ476CBJPZP9YBCKK&marketplace=FLIPKART&q=oppo&store=tyy%2F4io&srno=s_1_14&otracker=search&fm=organic&iid=97d22e5e-996b-4426-a328-fb8231276d7a.MOBFZAQ476CBJPZP.SEARCH&ppt=None&ppn=None&ssid=rgtsv4p9uo0000001667613515407&qH=c892ba238c98835d',\n",
       " 'https://www.flipkart.com/oppo-a15s-fancy-white-128-gb/p/itm8a26d15bdd39c?pid=MOBG22NMSYBGYYUG&lid=LSTMOBG22NMSYBGYYUGU7J2GQ&marketplace=FLIPKART&q=oppo&store=tyy%2F4io&srno=s_1_15&otracker=search&fm=organic&iid=97d22e5e-996b-4426-a328-fb8231276d7a.MOBG22NMSYBGYYUG.SEARCH&ppt=None&ppn=None&ssid=rgtsv4p9uo0000001667613515407&qH=c892ba238c98835d',\n",
       " 'https://www.flipkart.com/oppo-a16e-white-32-gb/p/itm85a06b75b1e08?pid=MOBGCNHPFUD7NYRZ&lid=LSTMOBGCNHPFUD7NYRZLXAVI5&marketplace=FLIPKART&q=oppo&store=tyy%2F4io&srno=s_1_16&otracker=search&fm=organic&iid=97d22e5e-996b-4426-a328-fb8231276d7a.MOBGCNHPFUD7NYRZ.SEARCH&ppt=None&ppn=None&ssid=rgtsv4p9uo0000001667613515407&qH=c892ba238c98835d',\n",
       " 'https://www.flipkart.com/oppo-a16e-white-64-gb/p/itm85a06b75b1e08?pid=MOBGCNHPZCJMEHBH&lid=LSTMOBGCNHPZCJMEHBHJK77SY&marketplace=FLIPKART&q=oppo&store=tyy%2F4io&srno=s_1_17&otracker=search&fm=organic&iid=97d22e5e-996b-4426-a328-fb8231276d7a.MOBGCNHPZCJMEHBH.SEARCH&ppt=None&ppn=None&ssid=rgtsv4p9uo0000001667613515407&qH=c892ba238c98835d',\n",
       " 'https://www.flipkart.com/oppo-a54-starry-blue-128-gb/p/itm2c71eaacf710e?pid=MOBG23KTFRHZ4PEP&lid=LSTMOBG23KTFRHZ4PEPBSFTKR&marketplace=FLIPKART&q=oppo&store=tyy%2F4io&srno=s_1_18&otracker=search&fm=organic&iid=97d22e5e-996b-4426-a328-fb8231276d7a.MOBG23KTFRHZ4PEP.SEARCH&ppt=None&ppn=None&ssid=rgtsv4p9uo0000001667613515407&qH=c892ba238c98835d',\n",
       " 'https://www.flipkart.com/oppo-a57-glowing-gold-64-gb/p/itma242c097cc9a1?pid=MOBGGZD3WHX3NZRR&lid=LSTMOBGGZD3WHX3NZRRPFPXM0&marketplace=FLIPKART&q=oppo&store=tyy%2F4io&srno=s_1_19&otracker=search&fm=organic&iid=97d22e5e-996b-4426-a328-fb8231276d7a.MOBGGZD3WHX3NZRR.SEARCH&ppt=None&ppn=None&ssid=rgtsv4p9uo0000001667613515407&qH=c892ba238c98835d',\n",
       " 'https://www.flipkart.com/oppo-a57-green-64-gb/p/itma242c097cc9a1?pid=MOBGHQY3ZQHHHYTV&lid=LSTMOBGHQY3ZQHHHYTV200NMY&marketplace=FLIPKART&q=oppo&store=tyy%2F4io&srno=s_1_20&otracker=search&fm=organic&iid=97d22e5e-996b-4426-a328-fb8231276d7a.MOBGHQY3ZQHHHYTV.SEARCH&ppt=None&ppn=None&ssid=rgtsv4p9uo0000001667613515407&qH=c892ba238c98835d',\n",
       " 'https://www.flipkart.com/oppo-f21spro-orange-128-gb/p/itm8307821173fa9?pid=MOBGG43FGSZYCYB9&lid=LSTMOBGG43FGSZYCYB9YRJY9S&marketplace=FLIPKART&q=oppo&store=tyy%2F4io&srno=s_1_21&otracker=search&fm=organic&iid=97d22e5e-996b-4426-a328-fb8231276d7a.MOBGG43FGSZYCYB9.SEARCH&ppt=None&ppn=None&ssid=rgtsv4p9uo0000001667613515407&qH=c892ba238c98835d',\n",
       " 'https://www.flipkart.com/oppo-a57-glowing-green-64-gb/p/itma242c097cc9a1?pid=MOBGFBTZZYMMXHEN&lid=LSTMOBGFBTZZYMMXHENWJ4WAZ&marketplace=FLIPKART&q=oppo&store=tyy%2F4io&srno=s_1_22&otracker=search&fm=organic&iid=97d22e5e-996b-4426-a328-fb8231276d7a.MOBGFBTZZYMMXHEN.SEARCH&ppt=None&ppn=None&ssid=rgtsv4p9uo0000001667613515407&qH=c892ba238c98835d',\n",
       " 'https://www.flipkart.com/oppo-reno8-5g-shimmer-black-128-gb/p/itmba1bc0bf67ccc?pid=MOBGFPE5BHY8QGEH&lid=LSTMOBGFPE5BHY8QGEHQDYOMR&marketplace=FLIPKART&q=oppo&store=tyy%2F4io&srno=s_1_23&otracker=search&fm=organic&iid=97d22e5e-996b-4426-a328-fb8231276d7a.MOBGFPE5BHY8QGEH.SEARCH&ppt=None&ppn=None&ssid=rgtsv4p9uo0000001667613515407&qH=c892ba238c98835d',\n",
       " 'https://www.flipkart.com/oppo-reno8-5g-shimmer-gold-128-gb/p/itmba1bc0bf67ccc?pid=MOBGFPE5ZNPQQWXV&lid=LSTMOBGFPE5ZNPQQWXVA0ROSN&marketplace=FLIPKART&q=oppo&store=tyy%2F4io&srno=s_1_24&otracker=search&fm=organic&iid=97d22e5e-996b-4426-a328-fb8231276d7a.MOBGFPE5ZNPQQWXV.SEARCH&ppt=None&ppn=None&ssid=rgtsv4p9uo0000001667613515407&qH=c892ba238c98835d']"
      ]
     },
     "execution_count": 15,
     "metadata": {},
     "output_type": "execute_result"
    }
   ],
   "source": [
    "productlinks"
   ]
  },
  {
   "cell_type": "code",
   "execution_count": 16,
   "id": "3c93d11b",
   "metadata": {},
   "outputs": [],
   "source": [
    "for i in range(len(productlinks)):\n",
    "    product=uReq(productlinks[i])\n",
    "    "
   ]
  },
  {
   "cell_type": "code",
   "execution_count": 17,
   "id": "4120a3a6",
   "metadata": {
    "scrolled": true
   },
   "outputs": [],
   "source": [
    "prodres_html=[]\n",
    "for i in range(len(productlinks)-1,-1,-1):\n",
    "    prodRes = requests.get(productlinks[i])\n",
    "    prodres_html.append(prodRes)"
   ]
  },
  {
   "cell_type": "code",
   "execution_count": 18,
   "id": "f19d9abf",
   "metadata": {},
   "outputs": [
    {
     "data": {
      "text/plain": [
       "24"
      ]
     },
     "execution_count": 18,
     "metadata": {},
     "output_type": "execute_result"
    }
   ],
   "source": [
    "len(prodres_html)"
   ]
  },
  {
   "cell_type": "code",
   "execution_count": 19,
   "id": "e2af795f",
   "metadata": {},
   "outputs": [],
   "source": [
    "for i in range(len(prodres_html)):\n",
    "    prodres_html[i].encoding='utf-8'"
   ]
  },
  {
   "cell_type": "code",
   "execution_count": 20,
   "id": "c489b40e",
   "metadata": {},
   "outputs": [
    {
     "data": {
      "text/plain": [
       "requests.models.Response"
      ]
     },
     "execution_count": 20,
     "metadata": {},
     "output_type": "execute_result"
    }
   ],
   "source": [
    "type(prodres_html[0])"
   ]
  },
  {
   "cell_type": "code",
   "execution_count": null,
   "id": "87da6656",
   "metadata": {},
   "outputs": [],
   "source": [
    "prod_html=[]\n",
    "for i in range(len(prodres_html)):\n",
    "    prod_html.append(bs(prodRes.text, \"html.parser\"))"
   ]
  },
  {
   "cell_type": "code",
   "execution_count": 22,
   "id": "7087cf12",
   "metadata": {},
   "outputs": [
    {
     "data": {
      "text/plain": [
       "24"
      ]
     },
     "execution_count": 22,
     "metadata": {},
     "output_type": "execute_result"
    }
   ],
   "source": [
    "len(prod_html)"
   ]
  },
  {
   "cell_type": "code",
   "execution_count": 23,
   "id": "8b178eea",
   "metadata": {},
   "outputs": [],
   "source": [
    "for i in range(len(prod_html)):\n",
    "    commentboxes = prod_html[i].find_all('div', {'class': \"_16PBlm\"})"
   ]
  },
  {
   "cell_type": "code",
   "execution_count": 24,
   "id": "507751f0",
   "metadata": {},
   "outputs": [
    {
     "name": "stdout",
     "output_type": "stream",
     "text": [
      "Aditya Kushwaha\n",
      "Nice product\n",
      "Very Nice phone it's charging time is to fast  i  really impressed with phone but camera was a not good how i am thinkREAD MORE\n"
     ]
    }
   ],
   "source": [
    "title=commentboxes[0].find('p', {'class': \"_2-N8zT\"}).text\n",
    "name=commentboxes[0].find('p', {'class': \"_2sc7ZR _2V5EHH\"}).text\n",
    "comments=commentboxes[0].find('div', {'class': \"\"}).text\n",
    "print (name)\n",
    "print (title)\n",
    "print (comments)"
   ]
  },
  {
   "cell_type": "code",
   "execution_count": 25,
   "id": "bb5ae811",
   "metadata": {},
   "outputs": [
    {
     "name": "stdout",
     "output_type": "stream",
     "text": [
      "Aditya Kushwaha\n",
      "Nice product\n",
      "Very Nice phone it's charging time is to fast  i  really impressed with phone but camera was a not good how i am thinkREAD MORE\n",
      "\n",
      "\n",
      "Aruna  Adsumilli \n",
      "Mind-blowing purchase\n",
      "It is a nice product u can definitely choose it The camera is very good The performance is good Fast chargingValue for money Te best productREAD MORE\n",
      "\n",
      "\n",
      "Kumar Alik\n",
      "Simply awesome\n",
      "The phone is very nice. Great to see. Best phone at this price. But it would have been better if the camera was better.The best phone for this price......READ MORE\n",
      "\n",
      "\n",
      "John  NirmalKumar \n",
      "Fair\n",
      "Look and buildwise phone is awesome but the main selling point was their 50MP camera which isn’t true. It does feel like 2 MP camera. Rest everything is good at this price point. Camera lovers don’t go for itREAD MORE\n",
      "\n",
      "\n",
      "Flipkart Customer\n",
      "Mind-blowing purchase\n",
      "Very nice phone. Value for money. camera 📸 is too much excellent 👌. Battery 🔋 fast charging with in 10min. 33w fast charger very good.READ MORE\n",
      "\n",
      "\n",
      "Hari Krishnan\n",
      "Very Good\n",
      "Phone is good at this price point. 90hz Display is good enough. Dual speaker offers good sound. Charging is pretty fast. Only 50mp sensor is good and the other two 2mp sensors are not useful. They could have provided an ultra wide or telephoto sensor insted of these two 2mp sensors. Also disappointed with Android 11 out of the box. It would be nice if it was Android 12. Overall not much to complain considering the price. Good phone .READ MORE\n",
      "\n",
      "\n",
      "Flipkart Customer\n",
      "Excellent\n",
      "Fantastic phone very nice looking Good battery life All goodREAD MORE\n",
      "\n",
      "\n",
      "Aayan Vidyarthi\n",
      "Very Good\n",
      "Good phone camera was good rear and front both are good.Batter excellent 2 day sure .Screen good not amoled but donot disappointed indoor or outdoor it's more light .Performace good as per me because I am not gammer.I love camera, music and video these are goodREAD MORE\n",
      "\n",
      "\n",
      "Satish Durai Kumar\n",
      "Wonderful\n",
      "Just spend ur money on a phone like this...Very useful gadget, smooth processor, silky smooth performance, wow to hold in hand... Only hurdle is to stop the Call recording notification with some 3rd party app.... Rest is wow.. Just buy it...Cam -5*RAM-5*Shape - 4*Val for money - 4*Build and OS - 5*+READ MORE\n",
      "\n",
      "\n",
      "Flipkart Customer\n",
      "Worth every penny\n",
      "Very good phone in budget. worth for money. Battery is awesome lasts for 2days for light use . everything is fantastic I love itREAD MORE\n",
      "\n",
      "\n"
     ]
    }
   ],
   "source": [
    "commentboxes = prod_html[i].find_all('div', {'class': \"_16PBlm\"})\n",
    "for i in range(len(commentboxes)-1):\n",
    "    title=commentboxes[i].find('p', {'class': \"_2-N8zT\"}).text\n",
    "    name=commentboxes[i].find('p', {'class': \"_2sc7ZR _2V5EHH\"}).text\n",
    "    comments=commentboxes[i].find('div', {'class': \"\"}).text\n",
    "    print (name)\n",
    "    print (title)\n",
    "    print (comments)\n",
    "    print('\\n' )"
   ]
  },
  {
   "cell_type": "code",
   "execution_count": null,
   "id": "7962f6d1",
   "metadata": {},
   "outputs": [],
   "source": []
  }
 ],
 "metadata": {
  "kernelspec": {
   "display_name": "Python 3 (ipykernel)",
   "language": "python",
   "name": "python3"
  },
  "language_info": {
   "codemirror_mode": {
    "name": "ipython",
    "version": 3
   },
   "file_extension": ".py",
   "mimetype": "text/x-python",
   "name": "python",
   "nbconvert_exporter": "python",
   "pygments_lexer": "ipython3",
   "version": "3.9.7"
  }
 },
 "nbformat": 4,
 "nbformat_minor": 5
}
